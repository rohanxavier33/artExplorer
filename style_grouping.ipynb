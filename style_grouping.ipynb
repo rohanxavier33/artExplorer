{
 "cells": [
  {
   "cell_type": "code",
   "execution_count": null,
   "metadata": {},
   "outputs": [],
   "source": [
    "# If data not stored locally run this cell to fetch it\n",
    "\"\"\"\n",
    "\n",
    "import kagglehub\n",
    "import os\n",
    "\n",
    "# Define the download directory\n",
    "download_dir = os.path.join(\"data_full\", \"raw\")\n",
    "\n",
    "# Create directory if it doesn't exist\n",
    "os.makedirs(download_dir, exist_ok=True)\n",
    "\n",
    "# Download dataset to specified directory\n",
    "path = kagglehub.dataset_download(\"steubk/wikiart\", path=download_dir)\n",
    "\n",
    "print(\"Path to dataset files:\", path)\n",
    "\n",
    "\"\"\""
   ]
  },
  {
   "cell_type": "code",
   "execution_count": null,
   "metadata": {},
   "outputs": [],
   "source": [
    "import os\n",
    "from PIL import Image\n",
    "import torchvision.transforms as transforms\n",
    "from torchvision.utils import save_image\n",
    "\n",
    "# Define paths\n",
    "input_dir = \"data\\preprocessed_images\"  # Folder containing raw artwork images\n",
    "output_dir = \"data_sample\\preprocessed_images\"  # Output folder for preprocessed images\n",
    "\n",
    "# Create output directory if it doesn't exist\n",
    "os.makedirs(output_dir, exist_ok=True)\n",
    "\n",
    "# Define transformations\n",
    "preprocess = transforms.Compose([\n",
    "    transforms.Resize(256),          # Resize shorter side to 256\n",
    "    transforms.CenterCrop(224),      # Crop center to 224x224\n",
    "    transforms.ToTensor(),           # Convert to tensor [0, 255] → [0, 1]\n",
    "    # Choose ONE normalization method below:\n",
    "    \n",
    "    # Method 1: Scale to [0, 1] (divide by 255)\n",
    "    # (No additional step needed; ToTensor() already scales to [0, 1])\n",
    "    \n",
    "    # Method 2: ImageNet Normalization (mean/std)\n",
    "    # transforms.Normalize(mean=[0.485, 0.456, 0.406], std=[0.229, 0.224, 0.225]),\n",
    "])\n",
    "\n",
    "# Process all images\n",
    "for root, _, files in os.walk(input_dir):\n",
    "    for file in files:\n",
    "        if file.lower().endswith(('.png', '.jpg', '.jpeg')):\n",
    "            img_path = os.path.join(root, file)\n",
    "            try:\n",
    "                # Load image\n",
    "                img = Image.open(img_path).convert(\"RGB\")  # Ensure RGB format\n",
    "                \n",
    "                # Apply preprocessing\n",
    "                img_tensor = preprocess(img)\n",
    "                \n",
    "                # Save preprocessed image\n",
    "                output_path = os.path.join(output_dir, file)\n",
    "                save_image(img_tensor, output_path)\n",
    "                \n",
    "            except Exception as e:\n",
    "                print(f\"Error processing {img_path}: {e}\")"
   ]
  },
  {
   "cell_type": "code",
   "execution_count": null,
   "metadata": {},
   "outputs": [],
   "source": [
    "# Load a preprocessed image to check values\n",
    "test_img = Image.open(os.path.join(output_dir, \"sample_image.jpg\"))\n",
    "test_tensor = transforms.ToTensor()(test_img)\n",
    "\n",
    "print(\"Tensor shape:\", test_tensor.shape)  # Should be (3, 224, 224)\n",
    "print(\"Min/Max pixel value:\", test_tensor.min(), test_tensor.max())  # Should be ~[0, 1] or [-2.1, 2.5] for ImageNet"
   ]
  },
  {
   "cell_type": "code",
   "execution_count": null,
   "metadata": {},
   "outputs": [],
   "source": [
    "# Convert images to embeddings.\n",
    "import torch\n",
    "from torchvision import models, transforms\n",
    "\n",
    "# Load pre-trained ResNet-50 and remove the last layer\n",
    "model = models.resnet50(pretrained=True)\n",
    "model = torch.nn.Sequential(*(list(model.children())[:-1]))\n",
    "model.eval()\n",
    "\n",
    "# Example transformation pipeline\n",
    "transform = transforms.Compose([\n",
    "    transforms.Resize(256),\n",
    "    transforms.CenterCrop(224),\n",
    "    transforms.ToTensor(),\n",
    "    transforms.Normalize(mean=[0.485, 0.456, 0.406], std=[0.229, 0.224, 0.225]),\n",
    "])\n",
    "\n",
    "# Extract embeddings for an image\n",
    "image = transform(Image.open(\"path/to/image.jpg\")).unsqueeze(0)\n",
    "embedding = model(image).squeeze().detach().numpy()"
   ]
  },
  {
   "cell_type": "code",
   "execution_count": null,
   "metadata": {},
   "outputs": [],
   "source": [
    "# EDA\n",
    "import matplotlib.pyplot as plt\n",
    "from sklearn.decomposition import PCA\n",
    "\n",
    "# Reduce embeddings to 2D for visualization\n",
    "pca = PCA(n_components=2)\n",
    "embeddings_2d = pca.fit_transform(embeddings)\n",
    "\n",
    "plt.scatter(embeddings_2d[:, 0], embeddings_2d[:, 1], alpha=0.5)\n",
    "plt.title(\"PCA of Artwork Embeddings\")\n",
    "plt.xlabel(\"PC1\"); plt.ylabel(\"PC2\")\n",
    "plt.show()"
   ]
  },
  {
   "cell_type": "code",
   "execution_count": null,
   "metadata": {},
   "outputs": [],
   "source": [
    "# Dimensionality Reduction\n",
    "import umap\n",
    "reducer = umap.UMAP(n_components=2, random_state=42)\n",
    "embeddings_umap = reducer.fit_transform(embeddings)"
   ]
  }
 ],
 "metadata": {
  "kernelspec": {
   "display_name": "Python 3",
   "language": "python",
   "name": "python3"
  },
  "language_info": {
   "codemirror_mode": {
    "name": "ipython",
    "version": 3
   },
   "file_extension": ".py",
   "mimetype": "text/x-python",
   "name": "python",
   "nbconvert_exporter": "python",
   "pygments_lexer": "ipython3",
   "version": "3.12.8"
  }
 },
 "nbformat": 4,
 "nbformat_minor": 2
}
